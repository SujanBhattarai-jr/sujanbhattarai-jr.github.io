{
  "cells": [
    {
      "cell_type": "raw",
      "metadata": {},
      "source": [
        "---\n",
        "title: \"Special Data science projects\"\n",
        "listing: \n",
        "  contents: featured_projects # all Quarto docs in the `posts` directory will be included on your listing page\n",
        "  type: default # or `default` or `table`; each type has its own set of yaml options to include\n",
        "  grid-columns: 4\n",
        "  sort: \"date desc\" # can also sort on more than one field\n",
        "  categories: true # allows you to sort posts by assigned categories \n",
        "---"
      ],
      "id": "452d73db"
    },
    {
      "cell_type": "markdown",
      "metadata": {},
      "source": [
        "```{css}\n",
        "<style>\n",
        "\n",
        "nav:hover {\n",
        "    background-color: rgba(255, 255, 255, 0.1); /* Change background color to your preference */\n",
        "    transition: background-color 0.3s ease;\n",
        "}\n",
        "\n",
        "</style>\n",
        "```"
      ],
      "id": "3d24119d"
    }
  ],
  "metadata": {
    "kernelspec": {
      "name": "eds217_2023",
      "language": "python",
      "display_name": "Python (eds217_2023)"
    }
  },
  "nbformat": 4,
  "nbformat_minor": 5
}