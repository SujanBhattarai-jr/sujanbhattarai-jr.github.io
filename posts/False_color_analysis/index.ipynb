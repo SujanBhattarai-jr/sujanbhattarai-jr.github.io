{
  "cells": [
    {
      "cell_type": "markdown",
      "metadata": {},
      "source": [
        "---\n",
        "title: \"Detection of Forest fire using false color Image analysis\"\n",
        "author: \"Sujan Bhattarai\"\n",
        "format:\n",
        "  html:\n",
        "    code-fold: false\n",
        "    code-summary: \"Show the code\"\n",
        "    css: /featured_projects/style.css\n",
        "date: 12-15-2023\n",
        "categories: [Python, Geospatial]\n",
        "\n",
        "## Introduction: False Color Image\n",
        "\n",
        "A false color image involves assigning colors to represent features not easily visible in the natural spectrum. In environmental studies, false color imagery plays a crucial role in highlighting and distinguishing various environmental elements, such as the health of vegetation, changes in land cover, and levels of pollution. By associating different attributes with distinct colors, false color images offer valuable information for assessing and monitoring environmental conditions. They aid in the analysis of ecosystems, climate patterns, and overall environmental health. The provided image belwo illustrates how false color can be applied to enhance the detection of changes. The image in the right is false color that highlights spherules in rocks in Mars. [further information about the image](https://mars.nasa.gov/resources/5838/stone-mountain/)\n",
        "\n",
        "<figure>\n",
        "<img src=\"https://www.universetoday.com/wp-content/uploads/2007/10/2007-1001marsrock1.jpg\" alt=\"False Color image comparison\">\n",
        "<figcaption>Figure 1: Stone mountain rock outcrop in true and false colour. Image credit: NASA/JPL</figcaption>\n",
        "</figure>\n",
        "\n",
        "In this brief analysis, false color imagery is employed to identify the Thomas fire event in Santa Barbara County. The process involves retrieving raster data from open data sources, specifically from Microsoft Planetary Computer and California government websites. The data sources are their citations are listed in Data Citation heading.\n",
        "\n",
        "<blockquote><p> \n",
        "For this blog, I opted to utilize the base environment of Python3 to avoid the need for downloading resource-intensive packages for the analysis, which could potentially consume significant memory resources. Additionally, I streamlined the installation process by employing the pip installer for all the required packages, including geopandas and rioxarray.</p></blockquote>"
      ],
      "id": "93fd3f2a"
    },
    {
      "cell_type": "code",
      "metadata": {},
      "source": [
        "#| code-fold: true\n",
        "#load all required libraries\n",
        "import os\n",
        "import numpy as np\n",
        "import pandas as pd\n",
        "import matplotlib.pyplot as plt\n",
        "import matplotlib.patches as mpatches\n",
        "import xarray as xr\n",
        "import rioxarray as rioxr\n",
        "import geopandas as gpd\n",
        "from rasterio.features import rasterize\n",
        "import matplotlib.dates as mdates\n",
        "from matplotlib.patches import Rectangle\n",
        "from matplotlib.widgets import Button\n",
        "from tabulate import tabulate"
      ],
      "id": "18597698",
      "execution_count": null,
      "outputs": []
    },
    {
      "cell_type": "markdown",
      "metadata": {},
      "source": [
        "## Data Citation {#data-citation}\n",
        " The downloaded raster image(in the chunk below) stores five bands of wavelengths : red, green, blue, near infrared, and shortwave. The near infrared, shortwave and red bands will be used in detection of fire plumes. Likewise, the California fire information is downloaded from California state goverment website, which stores information about fire event around california, Santa Barbara. The links to data sources are:\n",
        "\n",
        "- **False Color Raster Image:**\n",
        "  - Retrieved from the [Microsoft Planetary Computer catalog](https://planetarycomputer.microsoft.com/catalog).\n",
        "\n",
        "- **California Shapefile:**\n",
        "  - Downloaded from [California State GIS Data](https://gis.data.ca.gov/datasets/CALFIRE-Forestry::california-fire-perimeters-all-1/about).\n",
        "\n",
        "- **Air Quality Data:**\n",
        "  - [2017 Daily AQI Data](https://aqs.epa.gov/aqsweb/airdata/daily_aqi_by_county_2017.zip)\n",
        "  - [2018 Daily AQI Data](https://aqs.epa.gov/aqsweb/airdata/daily_aqi_by_county_2018.zip)\n"
      ],
      "id": "43e54a9e"
    },
    {
      "cell_type": "code",
      "metadata": {},
      "source": [
        "#| code-fold: true\n",
        "##set the directory for the data\n",
        "data_path = os.path.join(os.getcwd(), \"data/landsat8-2018-01-26-sb-simplified.nc\")\n",
        "landsat = rioxr.open_rasterio(data_path)\n",
        "# squeeze the band dimension, as it creates problem in plotting,\n",
        "# also create dublicate, original unchanged might be required\n",
        "landsat1 = landsat.squeeze(['band'])\n",
        "\n",
        "fire = gpd.read_file(\"data/California_Fire_Perimeters_2017/California_Fire_Perimeters_2017.shp\")\n",
        "fire.describe()"
      ],
      "id": "3e4b0732",
      "execution_count": null,
      "outputs": []
    },
    {
      "cell_type": "markdown",
      "metadata": {},
      "source": [
        "The three bands(NIR, SWIR, RED) are filtered for areas around Thomas fire area. The raster is adjusted with shapes and extent with another shape file, since shape file is used to extract area of interest(Thomas fire area) from whole california map. The false color bands are then plotted for visualization purpose.\n",
        "\n",
        "## Data Wrangling\n",
        "The first step in Data wrangling involves subsetting the data only for the area of the interest. Then, the CRS of both datasets is matched, or converted as per CRS of other dataset. Converting CRS is important for accurate merging of the two raste files. Next, the grid cells of netcdf data is converted to array representing list of lists(). The format of the NetCDF data-array looks as the ouput below."
      ],
      "id": "a0ef2f3d"
    },
    {
      "cell_type": "code",
      "metadata": {},
      "source": [
        "#| code-fold: True\n",
        "#select only thomas fire  \n",
        "thomas_fire = fire[fire['FIRE_NAME'] == 'THOMAS'] \n",
        "\n",
        "#check if value is only for Thomas fire\n",
        "for index, name in thomas_fire['FIRE_NAME'].items():\n",
        "    if name != 'THOMAS':\n",
        "        raise('DOUBLE CHECK')"
      ],
      "id": "9fe61162",
      "execution_count": null,
      "outputs": []
    },
    {
      "cell_type": "code",
      "metadata": {},
      "source": [
        "#| code-fold: true\n",
        "#change the crs to match with landsat                              \n",
        "thomas_fire = thomas_fire.to_crs(landsat.rio.crs)\n",
        "\n",
        "#validate if they are equal\n",
        "thomas_fire.crs == landsat.rio.crs\n",
        "\n",
        "#also save the false color image of the landsat, it will be required in plotting\n",
        "false_color_data = landsat1[['swir22', 'nir08', 'red']].to_array()\n",
        "\n",
        "print(false_color_data[1])"
      ],
      "id": "a94d02c8",
      "execution_count": null,
      "outputs": []
    },
    {
      "cell_type": "markdown",
      "metadata": {},
      "source": [
        "## Data Visualization\n",
        "The dataset is ready for visualization. Since, it's an array object, imshow function is used.\n",
        "The output image is the raster image and shows different colors for areas where fire occured."
      ],
      "id": "6835ae39"
    },
    {
      "cell_type": "code",
      "metadata": {},
      "source": [
        "#| code-fold: true\n",
        "# Data is all set to plot\n",
        "fig, ax = plt.subplots(figsize=(5, 5))\n",
        "\n",
        "false_color_data.plot.imshow(ax=ax, cmap='inferno', robust = True)\n",
        "ak_patch = mpatches.Patch(color='lightgreen', \n",
        "                          alpha = 0.8,\n",
        "                          label='False color image for fire predictions')\n",
        "\n",
        "thomas_fire.plot(ax=ax, edgecolor = 'red', color= 'yellow', alpha = 0.3)\n",
        "kodiak_patch = mpatches.Patch(color='yellow', \n",
        "                              alpha = 0.5,\n",
        "                              label='Fire occured')\n",
        "\n",
        "ax.legend(handles = [ak_patch, kodiak_patch], \n",
        "          frameon=False, \n",
        "          loc='lower left',\n",
        "          labelcolor = 'white' ) #create legend\n",
        "\n",
        "ax.get_xaxis().set_visible(False) #remove xaxis label\n",
        "ax.get_yaxis().set_visible(False) #remove yaxis label"
      ],
      "id": "d5efa9ee",
      "execution_count": null,
      "outputs": []
    },
    {
      "cell_type": "markdown",
      "metadata": {},
      "source": [
        "<p>The graph above displays the false color image of the Thomas fire. Now, examine the air quality during, before, and after the Thomas fire to spot any notable changes. You can retrieve the tabular daily air quality data for the region from the <a href=\"#data-citation\">Data Citation</a>  section. To carry out this assessment, download the data for both 2017 and 2018.</p>\n",
        "<p>Prior to moving forward, it's crucial to acknowledge that the new air quality data needs some cleaning. Issues like spaces in names, inconsistent column names, and the inclusion of data for all counties in California need attention. Therefore, execute the following cleaning procedures:</p>\n",
        "\n",
        "  <ol>\n",
        "        <li>Remove spaces in names.</li>\n",
        "        <li>Standardize column names to lowercase.</li>\n",
        "        <li>Combine data for 2017 and 2018.</li>\n",
        "        <li>Replace spaces in column names with underscores.</li>\n",
        "        <li>Convert the date column to a datetime format recognized by Python.</li>\n",
        "  </ol>\n",
        "\n",
        "<p>Once these cleaning steps are completed, you'll have a well-prepared dataset for further analysis of air quality changes in relation to the Thomas fire event.</p>\n",
        "\n",
        "## Data Wrangling (Part B)"
      ],
      "id": "cb9ad691"
    },
    {
      "cell_type": "code",
      "metadata": {},
      "source": [
        "#| code-fold: true\n",
        "##air quality index\n",
        "##webscrape the two dataset based on the guidelines\n",
        "aqi_17 = pd.read_csv(\"https://aqs.epa.gov/aqsweb/airdata/daily_aqi_by_county_2017.zip\")\n",
        "aqi_18 = pd.read_csv(\"https://aqs.epa.gov/aqsweb/airdata/daily_aqi_by_county_2018.zip\")\n",
        "##concatnate the two datasets, this will be useful in plotting\n",
        "aqi = pd.concat([aqi_17, aqi_18])\n",
        "\n",
        "#check if both 2017 and 2018 data is present\n",
        "print(tabulate(aqi[['Date']].head(2), headers='keys', tablefmt='pretty'))\n",
        "print(tabulate(aqi[['Date']].tail(2), headers='keys', tablefmt='pretty'))"
      ],
      "id": "143981d8",
      "execution_count": null,
      "outputs": []
    },
    {
      "cell_type": "code",
      "metadata": {},
      "source": [
        "#| code-fold: true\n",
        "# re-assign the column names - .str.lower() makes them lower case\n",
        "aqi.columns = aqi.columns.str.lower()\n",
        "\n",
        "#  re-assign the column names again - .str.replace(' ','_') replaces the space for _\n",
        "aqi.columns = aqi.columns.str.replace(' ','_')\n",
        "\n",
        "# Select data from Santa Barbara county\n",
        "aqi_sb = aqi[aqi['county_name'] == 'Santa Barbara']\n",
        "\n",
        "# Remove specified columns\n",
        "col_remove = ['state_name', 'county_name', 'state_code', 'county_code']\n",
        "aqi_sb = aqi_sb.drop(columns=col_remove)\n",
        "\n",
        "##date is in object format, and not in standard datetime python object\n",
        "# Convert 'Date' column to datetime\n",
        "aqi_sb['date'] = pd.to_datetime(aqi_sb['date'])  "
      ],
      "id": "da0f9453",
      "execution_count": null,
      "outputs": []
    },
    {
      "cell_type": "markdown",
      "metadata": {},
      "source": [
        "After the data is cleaned, perform the smoothing by calculating moving average for the air quality value. Rolling average with period of 20D offers general average for 20Days. Any other values can be used other than 20."
      ],
      "id": "42e8d4aa"
    },
    {
      "cell_type": "code",
      "metadata": {},
      "source": [
        "#| code-fold: true\n",
        "# Set 'Date' as the index\n",
        "aqi_sb.set_index('date', inplace=True)\n",
        "#  DataFrame with the Date column as the index\n",
        "aqi_sb['five_day_average'] = aqi_sb.aqi.rolling('20D').mean()"
      ],
      "id": "6b61d79d",
      "execution_count": null,
      "outputs": []
    },
    {
      "cell_type": "markdown",
      "metadata": {},
      "source": [
        "## Data Visualization (Part B)\n",
        "Finally, create a graph to show how the air quality changed over two years. You'll notice a significant increase at a specific time corresponding to the Thomas fire. The line graph, combined with the average value over a 20-day period, provides sufficient evidence to demonstrate the impact of the Thomas fire on air quality in the Santa Barbara area."
      ],
      "id": "448f4df4"
    },
    {
      "cell_type": "code",
      "metadata": {},
      "source": [
        "#| code-fold: true\n",
        "# set the plot style\n",
        "plt.style.use('seaborn-darkgrid')\n",
        "\n",
        "# Create a white background\n",
        "fig, ax = plt.subplots(figsize=(10, 6))\n",
        "fig.patch.set_facecolor('white')\n",
        "ax.set_facecolor('white')\n",
        "\n",
        "# Plot the data\n",
        "ax.plot(aqi_sb.index, aqi_sb['aqi'], label='Daily AQI avlu', color='#00AA00')\n",
        "ax.plot(aqi_sb.index, aqi_sb['five_day_average'], label='5-Day Average', color='#FFFF00')\n",
        "\n",
        "# Set the title and labels\n",
        "plt.title('Daily air quality and 5-day rolling average in Santa Barbara')\n",
        "plt.xlabel('Date')\n",
        "plt.ylabel('Air Quality Index')\n",
        "plt.legend()\n",
        "\n",
        "# Add grid for better readability\n",
        "ax.grid(True, linestyle='--', alpha=0.7)\n",
        "\n",
        "# Customize y-axis ticks\n",
        "ax.yaxis.set_major_locator(plt.MaxNLocator(integer=True))\n",
        "\n",
        "# Set the axis ticks to be outside the plot\n",
        "ax.tick_params(axis='both', direction='out')\n",
        "\n",
        "# Remove top and right spines\n",
        "ax.spines['top'].set_visible(False)\n",
        "ax.spines['right'].set_visible(False)\n",
        "\n",
        "##add rectangle zoom\n",
        "# Add a rectangular zoom box\n",
        "zoom_date = '2017-12'  # Replace with your desired zoom date\n",
        "rect = Rectangle((mdates.datestr2num(zoom_date), ax.get_ylim()[0]),\n",
        "                 20, 150, linewidth=2, edgecolor='r', facecolor='none')  # Adjust rectangle size as needed\n",
        "ax.add_patch(rect)\n",
        "plt.show()"
      ],
      "id": "125ad637",
      "execution_count": null,
      "outputs": []
    },
    {
      "cell_type": "markdown",
      "metadata": {},
      "source": [
        "## Conclusion\n",
        "In conclusion, this exploration into the impact of the Thomas fire on the Santa Barbara area has uncovered crucial insights through the combination of false color imagery and air quality data analysis. The false color image provided a visual representation of the fire event, while the examination of air quality data from 2017 and 2018 allowed us to discern notable changes.\n",
        "\n",
        "Upon downloading and cleaning the air quality data, aligning coordinate reference systems, and converting netCDF grid cells into a structured array, a comprehensive dataset emerged. The subsequent plotting of air quality changes over the two-year period, along with a discernible spike corresponding to the Thomas fire, painted a compelling narrative of the environmental impact.\n",
        "\n",
        "The utilization of line graphs, coupled with a 20-day rolling average, served as effective tools to illustrate the temporal fluctuations in air quality. The identified spike at the time of the Thomas fire provides clear evidence of the event's influence on the region's air quality. This integrated approach, combining imagery, data analysis, and visualization, enhances our understanding of the broader environmental implications of such natural disasters and underscores the importance of comprehensive monitoring and analysis in safeguarding environmental well-being.\n",
        "\n",
        "#### Offline Data and Folder structure at:\n",
        "[Github](https://github.com/Sujan-Bhattarai12/False_color_image_analysis)"
      ],
      "id": "497c5426"
    }
  ],
  "metadata": {
    "kernelspec": {
      "name": "eds217_2023",
      "language": "python",
      "display_name": "Python (eds217_2023)"
    }
  },
  "nbformat": 4,
  "nbformat_minor": 5
}